{
 "cells": [
  {
   "cell_type": "markdown",
   "metadata": {},
   "source": [
    "# Laboratório de Fluídos & Termodinâmica"
   ]
  },
  {
   "cell_type": "markdown",
   "metadata": {},
   "source": [
    "## Princípio de Pascal & Teorema de Stevin"
   ]
  },
  {
   "cell_type": "markdown",
   "metadata": {},
   "source": [
    "* Aluno: Gabriel Wendell Celestino Rocha\n",
    "* Matrícula: 20190112149 "
   ]
  },
  {
   "cell_type": "markdown",
   "metadata": {},
   "source": [
    "* Professor: João Medeiros de Araujo.\n",
    "* Data: 14/03/2021"
   ]
  },
  {
   "cell_type": "markdown",
   "metadata": {},
   "source": [
    "### Bibliotecas utilizadas"
   ]
  },
  {
   "cell_type": "code",
   "execution_count": 1,
   "metadata": {},
   "outputs": [],
   "source": [
    "import pandas as pd\n",
    "import numpy as np\n",
    "\n",
    "%matplotlib notebook"
   ]
  },
  {
   "cell_type": "markdown",
   "metadata": {},
   "source": [
    "### Lendo os dados"
   ]
  },
  {
   "cell_type": "code",
   "execution_count": 2,
   "metadata": {},
   "outputs": [
    {
     "data": {
      "text/html": [
       "<div>\n",
       "<style scoped>\n",
       "    .dataframe tbody tr th:only-of-type {\n",
       "        vertical-align: middle;\n",
       "    }\n",
       "\n",
       "    .dataframe tbody tr th {\n",
       "        vertical-align: top;\n",
       "    }\n",
       "\n",
       "    .dataframe thead th {\n",
       "        text-align: right;\n",
       "    }\n",
       "</style>\n",
       "<table border=\"1\" class=\"dataframe\">\n",
       "  <thead>\n",
       "    <tr style=\"text-align: right;\">\n",
       "      <th></th>\n",
       "      <th>Nº Exp.</th>\n",
       "      <th>h_water</th>\n",
       "      <th>h_oil</th>\n",
       "      <th>rho_oil</th>\n",
       "    </tr>\n",
       "  </thead>\n",
       "  <tbody>\n",
       "    <tr>\n",
       "      <th>0</th>\n",
       "      <td>Exp. 1</td>\n",
       "      <td>38.5</td>\n",
       "      <td>38.7</td>\n",
       "      <td>0.994</td>\n",
       "    </tr>\n",
       "    <tr>\n",
       "      <th>1</th>\n",
       "      <td>Exp. 2</td>\n",
       "      <td>38.6</td>\n",
       "      <td>38.9</td>\n",
       "      <td>0.992</td>\n",
       "    </tr>\n",
       "    <tr>\n",
       "      <th>2</th>\n",
       "      <td>Exp. 3</td>\n",
       "      <td>38.8</td>\n",
       "      <td>39.2</td>\n",
       "      <td>0.990</td>\n",
       "    </tr>\n",
       "    <tr>\n",
       "      <th>3</th>\n",
       "      <td>Exp. 4</td>\n",
       "      <td>38.7</td>\n",
       "      <td>38.9</td>\n",
       "      <td>0.994</td>\n",
       "    </tr>\n",
       "    <tr>\n",
       "      <th>4</th>\n",
       "      <td>Exp. 5</td>\n",
       "      <td>38.2</td>\n",
       "      <td>38.5</td>\n",
       "      <td>0.992</td>\n",
       "    </tr>\n",
       "    <tr>\n",
       "      <th>5</th>\n",
       "      <td>Sigma</td>\n",
       "      <td>0.0</td>\n",
       "      <td>0.0</td>\n",
       "      <td>0.000</td>\n",
       "    </tr>\n",
       "  </tbody>\n",
       "</table>\n",
       "</div>"
      ],
      "text/plain": [
       "  Nº Exp.  h_water   h_oil   rho_oil \n",
       "0  Exp. 1      38.5    38.7     0.994\n",
       "1  Exp. 2      38.6    38.9     0.992\n",
       "2  Exp. 3      38.8    39.2     0.990\n",
       "3  Exp. 4      38.7    38.9     0.994\n",
       "4  Exp. 5      38.2    38.5     0.992\n",
       "5   Sigma       0.0     0.0     0.000"
      ]
     },
     "execution_count": 2,
     "metadata": {},
     "output_type": "execute_result"
    }
   ],
   "source": [
    "data = pd.read_excel('ExpData.xlsx')\n",
    "data"
   ]
  },
  {
   "cell_type": "markdown",
   "metadata": {},
   "source": [
    "* $[h_{water}]$ = cm\n",
    "* $[h_{oil}]$ = cm\n",
    "* $[\\rho_{oil}]$ = g$\\cdot$cm$^{-3}$\n",
    "* $\\rho_{water}$ = $10^{3}$ kg$\\cdot$m$^{-3}$=1.0 g$\\cdot$cm$^{-3}$"
   ]
  },
  {
   "cell_type": "markdown",
   "metadata": {},
   "source": [
    "### Desvio padrão"
   ]
  },
  {
   "cell_type": "markdown",
   "metadata": {},
   "source": [
    "$$\\boxed{\\sigma=\\sqrt{\\frac{1}{N}\\sum_{i=1}^{n}(x_{i}-\\mu)^{2}}}$$"
   ]
  },
  {
   "cell_type": "code",
   "execution_count": 3,
   "metadata": {},
   "outputs": [],
   "source": [
    "data.loc[5, 'h_water '] = np.std(data['h_water '][0:5])\n",
    "data.loc[5, 'h_oil '] = np.std(data['h_oil '][0:5])\n",
    "data.loc[5, 'rho_oil '] = np.std(data['rho_oil '][0:5])"
   ]
  },
  {
   "cell_type": "code",
   "execution_count": 4,
   "metadata": {},
   "outputs": [
    {
     "name": "stdout",
     "output_type": "stream",
     "text": [
      "h_water =  38.56 +/- 0.2059126028197388\n",
      "h_oil =  38.839999999999996 +/- 0.23323807579381242\n",
      "rho_oil =  0.9924 +/- 0.0014966629547095778\n"
     ]
    }
   ],
   "source": [
    "h_water = np.mean(data['h_water '][0:5])\n",
    "h_oil = np.mean(data['h_oil '][0:5])\n",
    "rho_oil = np.mean(data['rho_oil '][0:5])\n",
    "\n",
    "print('h_water = ',h_water, '+/-', data['h_water '][5])\n",
    "print('h_oil = ',h_oil, '+/-', data['h_oil '][5])\n",
    "print('rho_oil = ',rho_oil, '+/-', data['rho_oil '][5])"
   ]
  },
  {
   "cell_type": "markdown",
   "metadata": {},
   "source": [
    "Densidade do óleo de cozinha $\\rho_{oleo}=0,9982\\text{ g/cm}^{3} \\text{ a 20}^{\\circ}C$\n",
    "* Fonte: JESUS, V.L.B. de  and  PALMA, D.A. et al 2008\n",
    "* DOI: http://dx.doi.org/10.1590/S1806-11172008005000002  "
   ]
  },
  {
   "cell_type": "markdown",
   "metadata": {},
   "source": [
    "### Erro relativo percentual"
   ]
  },
  {
   "cell_type": "markdown",
   "metadata": {},
   "source": [
    "$$\\boxed{\\%Error=\\frac{|\\text{estimative}-\\text{actual}|}{\\text{actual}}\\cdot100}$$"
   ]
  },
  {
   "cell_type": "code",
   "execution_count": 5,
   "metadata": {},
   "outputs": [
    {
     "name": "stdout",
     "output_type": "stream",
     "text": [
      "Erro relativo percentual = 0.5844417573559076 %\n"
     ]
    }
   ],
   "source": [
    "def Error_perc(est, act):\n",
    "    return (np.abs(est-act)/act)*100\n",
    "\n",
    "Err_oil = Error_perc(0.9982,rho_oil)\n",
    "\n",
    "print('Erro relativo percentual =', Err_oil, '%')"
   ]
  },
  {
   "cell_type": "markdown",
   "metadata": {},
   "source": [
    "### Coeficiente de variação"
   ]
  },
  {
   "cell_type": "markdown",
   "metadata": {},
   "source": [
    "$$\\boxed{CV=\\frac{\\sigma}{\\mu}\\cdot100}$$"
   ]
  },
  {
   "cell_type": "markdown",
   "metadata": {},
   "source": [
    "* $CV\\leq15\\%$: Baixa dispersão (dados homogêneos)\n",
    "* $15\\%<CV<30\\%$: Média dispersão\n",
    "* $CV\\geq30\\%$: Alta dispersão (dados heterogêneos)"
   ]
  },
  {
   "cell_type": "code",
   "execution_count": 6,
   "metadata": {},
   "outputs": [
    {
     "name": "stdout",
     "output_type": "stream",
     "text": [
      "CV (h_water) = 0.5340057127067915 %\n",
      "CV (h_oil) = 0.6005099788718137 %\n",
      "CV (rho_oil) = 0.1508124702448184 %\n"
     ]
    }
   ],
   "source": [
    "def CV(sigma,mu):\n",
    "    return (sigma/mu)*100\n",
    "\n",
    "CV_hwater = CV(data['h_water '][5], h_water)\n",
    "CV_hoil = CV(data['h_oil '][5], h_oil)\n",
    "CV_poil = CV(data['rho_oil '][5], rho_oil)\n",
    "\n",
    "print('CV (h_water) =', CV_hwater, '%')\n",
    "print('CV (h_oil) =', CV_hoil, '%')\n",
    "print('CV (rho_oil) =', CV_poil, '%')"
   ]
  },
  {
   "cell_type": "markdown",
   "metadata": {},
   "source": [
    "### Margem de erro"
   ]
  },
  {
   "cell_type": "markdown",
   "metadata": {},
   "source": [
    "$$\\boxed{E=1,96\\cdot\\frac{\\sigma}{N}}$$"
   ]
  },
  {
   "cell_type": "code",
   "execution_count": 7,
   "metadata": {},
   "outputs": [
    {
     "name": "stdout",
     "output_type": "stream",
     "text": [
      "E (h_water) = 0.08071774030533761\n",
      "E (h_oil) = 0.09142932571117447\n",
      "E (rho_oil) = 0.0005866918782461545\n"
     ]
    }
   ],
   "source": [
    "def E(sigma, N):\n",
    "    return 1.96*(sigma/N)\n",
    "\n",
    "E_hwater = E(data['h_water '][5], 5)\n",
    "E_hoil = E(data['h_oil '][5], 5)\n",
    "E_poil = E(data['rho_oil '][5], 5)\n",
    "\n",
    "print('E (h_water) =', E_hwater)\n",
    "print('E (h_oil) =', E_hoil)\n",
    "print('E (rho_oil) =', E_poil)"
   ]
  },
  {
   "cell_type": "code",
   "execution_count": 8,
   "metadata": {},
   "outputs": [
    {
     "data": {
      "text/html": [
       "<div>\n",
       "<style scoped>\n",
       "    .dataframe tbody tr th:only-of-type {\n",
       "        vertical-align: middle;\n",
       "    }\n",
       "\n",
       "    .dataframe tbody tr th {\n",
       "        vertical-align: top;\n",
       "    }\n",
       "\n",
       "    .dataframe thead th {\n",
       "        text-align: right;\n",
       "    }\n",
       "</style>\n",
       "<table border=\"1\" class=\"dataframe\">\n",
       "  <thead>\n",
       "    <tr style=\"text-align: right;\">\n",
       "      <th></th>\n",
       "      <th>Nº Exp.</th>\n",
       "      <th>h_water</th>\n",
       "      <th>h_oil</th>\n",
       "      <th>rho_oil</th>\n",
       "    </tr>\n",
       "  </thead>\n",
       "  <tbody>\n",
       "    <tr>\n",
       "      <th>0</th>\n",
       "      <td>Exp. 1</td>\n",
       "      <td>38.500000</td>\n",
       "      <td>38.700000</td>\n",
       "      <td>0.994000</td>\n",
       "    </tr>\n",
       "    <tr>\n",
       "      <th>1</th>\n",
       "      <td>Exp. 2</td>\n",
       "      <td>38.600000</td>\n",
       "      <td>38.900000</td>\n",
       "      <td>0.992000</td>\n",
       "    </tr>\n",
       "    <tr>\n",
       "      <th>2</th>\n",
       "      <td>Exp. 3</td>\n",
       "      <td>38.800000</td>\n",
       "      <td>39.200000</td>\n",
       "      <td>0.990000</td>\n",
       "    </tr>\n",
       "    <tr>\n",
       "      <th>3</th>\n",
       "      <td>Exp. 4</td>\n",
       "      <td>38.700000</td>\n",
       "      <td>38.900000</td>\n",
       "      <td>0.994000</td>\n",
       "    </tr>\n",
       "    <tr>\n",
       "      <th>4</th>\n",
       "      <td>Exp. 5</td>\n",
       "      <td>38.200000</td>\n",
       "      <td>38.500000</td>\n",
       "      <td>0.992000</td>\n",
       "    </tr>\n",
       "    <tr>\n",
       "      <th>5</th>\n",
       "      <td>Sigma</td>\n",
       "      <td>0.205913</td>\n",
       "      <td>0.233238</td>\n",
       "      <td>0.001497</td>\n",
       "    </tr>\n",
       "  </tbody>\n",
       "</table>\n",
       "</div>"
      ],
      "text/plain": [
       "  Nº Exp.   h_water      h_oil   rho_oil \n",
       "0  Exp. 1  38.500000  38.700000  0.994000\n",
       "1  Exp. 2  38.600000  38.900000  0.992000\n",
       "2  Exp. 3  38.800000  39.200000  0.990000\n",
       "3  Exp. 4  38.700000  38.900000  0.994000\n",
       "4  Exp. 5  38.200000  38.500000  0.992000\n",
       "5   Sigma   0.205913   0.233238  0.001497"
      ]
     },
     "execution_count": 8,
     "metadata": {},
     "output_type": "execute_result"
    }
   ],
   "source": [
    "data"
   ]
  },
  {
   "cell_type": "markdown",
   "metadata": {},
   "source": [
    "$\\blacksquare$"
   ]
  },
  {
   "cell_type": "markdown",
   "metadata": {},
   "source": [
    "![image](https://media.giphy.com/media/xUPOqo6E1XvWXwlCyQ/giphy.gif)"
   ]
  }
 ],
 "metadata": {
  "kernelspec": {
   "display_name": "Python 3 (ipykernel)",
   "language": "python",
   "name": "python3"
  },
  "language_info": {
   "codemirror_mode": {
    "name": "ipython",
    "version": 3
   },
   "file_extension": ".py",
   "mimetype": "text/x-python",
   "name": "python",
   "nbconvert_exporter": "python",
   "pygments_lexer": "ipython3",
   "version": "3.9.8"
  }
 },
 "nbformat": 4,
 "nbformat_minor": 2
}
